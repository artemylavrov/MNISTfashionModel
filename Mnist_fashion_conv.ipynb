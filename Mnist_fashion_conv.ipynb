{
  "nbformat": 4,
  "nbformat_minor": 0,
  "metadata": {
    "colab": {
      "provenance": []
    },
    "kernelspec": {
      "name": "python3",
      "display_name": "Python 3"
    },
    "language_info": {
      "name": "python"
    },
    "accelerator": "GPU",
    "gpuClass": "standard"
  },
  "cells": [
    {
      "cell_type": "markdown",
      "source": [
        "# FashionMNIST"
      ],
      "metadata": {
        "id": "t5yAXr0WZK1L"
      }
    },
    {
      "cell_type": "markdown",
      "source": [
        "<img src=\"https://emiliendupont.github.io/imgs/mnist-chicken/mnist-and-fashion-examples.png\">"
      ],
      "metadata": {
        "id": "9zBDaFd-af3L"
      }
    },
    {
      "cell_type": "markdown",
      "source": [
        "Мы будем работать с картинками одежды (чёрно-белыми, 28 на 28). По входной картинке нужно предсказать тип одежды на 10 классов."
      ],
      "metadata": {
        "id": "EQUWMfZRahIO"
      }
    },
    {
      "cell_type": "code",
      "execution_count": 1,
      "metadata": {
        "id": "czUjp5h-SDfg",
        "colab": {
          "base_uri": "https://localhost:8080/"
        },
        "outputId": "5eac7ef8-f6c1-4831-a0fd-8e24f80a169b"
      },
      "outputs": [
        {
          "output_type": "stream",
          "name": "stdout",
          "text": [
            "\u001b[2K     \u001b[90m━━━━━━━━━━━━━━━━━━━━━━━━━━━━━━━━━━━━━━━━\u001b[0m \u001b[32m2.1/2.1 MB\u001b[0m \u001b[31m31.8 MB/s\u001b[0m eta \u001b[36m0:00:00\u001b[0m\n",
            "\u001b[2K     \u001b[90m━━━━━━━━━━━━━━━━━━━━━━━━━━━━━━━━━━━━━━\u001b[0m \u001b[32m190.0/190.0 kB\u001b[0m \u001b[31m22.8 MB/s\u001b[0m eta \u001b[36m0:00:00\u001b[0m\n",
            "\u001b[2K     \u001b[90m━━━━━━━━━━━━━━━━━━━━━━━━━━━━━━━━━━━━━━\u001b[0m \u001b[32m224.8/224.8 kB\u001b[0m \u001b[31m21.9 MB/s\u001b[0m eta \u001b[36m0:00:00\u001b[0m\n",
            "\u001b[?25h  Preparing metadata (setup.py) ... \u001b[?25l\u001b[?25hdone\n",
            "\u001b[2K     \u001b[90m━━━━━━━━━━━━━━━━━━━━━━━━━━━━━━━━━━━━━━━━\u001b[0m \u001b[32m62.7/62.7 kB\u001b[0m \u001b[31m7.4 MB/s\u001b[0m eta \u001b[36m0:00:00\u001b[0m\n",
            "\u001b[?25h  Building wheel for pathtools (setup.py) ... \u001b[?25l\u001b[?25hdone\n"
          ]
        }
      ],
      "source": [
        "# установим последнюю версию wandb\n",
        "!pip install -q --upgrade wandb"
      ]
    },
    {
      "cell_type": "code",
      "source": [
        "import wandb"
      ],
      "metadata": {
        "id": "_B_6yMHv9lO0"
      },
      "execution_count": 2,
      "outputs": []
    },
    {
      "cell_type": "code",
      "source": [
        "wandb.login()"
      ],
      "metadata": {
        "colab": {
          "base_uri": "https://localhost:8080/",
          "height": 121
        },
        "id": "bxDKioX19Qc1",
        "outputId": "f2e35e75-a6ca-45f0-fc0e-d6634385d0dc"
      },
      "execution_count": 3,
      "outputs": [
        {
          "output_type": "display_data",
          "data": {
            "text/plain": [
              "<IPython.core.display.Javascript object>"
            ],
            "application/javascript": [
              "\n",
              "        window._wandbApiKey = new Promise((resolve, reject) => {\n",
              "            function loadScript(url) {\n",
              "            return new Promise(function(resolve, reject) {\n",
              "                let newScript = document.createElement(\"script\");\n",
              "                newScript.onerror = reject;\n",
              "                newScript.onload = resolve;\n",
              "                document.body.appendChild(newScript);\n",
              "                newScript.src = url;\n",
              "            });\n",
              "            }\n",
              "            loadScript(\"https://cdn.jsdelivr.net/npm/postmate/build/postmate.min.js\").then(() => {\n",
              "            const iframe = document.createElement('iframe')\n",
              "            iframe.style.cssText = \"width:0;height:0;border:none\"\n",
              "            document.body.appendChild(iframe)\n",
              "            const handshake = new Postmate({\n",
              "                container: iframe,\n",
              "                url: 'https://wandb.ai/authorize'\n",
              "            });\n",
              "            const timeout = setTimeout(() => reject(\"Couldn't auto authenticate\"), 5000)\n",
              "            handshake.then(function(child) {\n",
              "                child.on('authorize', data => {\n",
              "                    clearTimeout(timeout)\n",
              "                    resolve(data)\n",
              "                });\n",
              "            });\n",
              "            })\n",
              "        });\n",
              "    "
            ]
          },
          "metadata": {}
        },
        {
          "output_type": "stream",
          "name": "stderr",
          "text": [
            "\u001b[34m\u001b[1mwandb\u001b[0m: Logging into wandb.ai. (Learn how to deploy a W&B server locally: https://wandb.me/wandb-server)\n",
            "\u001b[34m\u001b[1mwandb\u001b[0m: You can find your API key in your browser here: https://wandb.ai/authorize\n",
            "wandb: Paste an API key from your profile and hit enter, or press ctrl+c to quit:"
          ]
        },
        {
          "name": "stdout",
          "output_type": "stream",
          "text": [
            " ··········\n"
          ]
        },
        {
          "output_type": "stream",
          "name": "stderr",
          "text": [
            "\u001b[34m\u001b[1mwandb\u001b[0m: Appending key for api.wandb.ai to your netrc file: /root/.netrc\n"
          ]
        },
        {
          "output_type": "execute_result",
          "data": {
            "text/plain": [
              "True"
            ]
          },
          "metadata": {},
          "execution_count": 3
        }
      ]
    },
    {
      "cell_type": "code",
      "source": [
        "import os # для логирования\n",
        "\n",
        "import numpy as np\n",
        "import random\n",
        "from tqdm import *\n",
        "\n",
        "import torch\n",
        "import torch.nn as nn\n",
        "import torch.nn.functional as F\n",
        "import torch.optim as optim # для оптимизаторов\n",
        "from torchvision import datasets # для данных\n",
        "import torchvision.transforms as transforms # для преобразований тензоров\n",
        "\n",
        "import matplotlib.pyplot as plt"
      ],
      "metadata": {
        "id": "fWtwdJBETKgd"
      },
      "execution_count": 4,
      "outputs": []
    },
    {
      "cell_type": "code",
      "source": [
        "# Зафиксируем seed для воспроизводимости\n",
        "\n",
        "def seed_everything(seed):\n",
        "  random.seed(seed) #Фиксируем генератор рандомных чисел\n",
        "  os.environ['PYTHONHASHSEED'] = str(seed) #Хэши\n",
        "  np.random.seed(seed) #Фиксируем генератор рандомных чисел np\n",
        "  torch.manual_seed(seed)\n",
        "  torch.cuda.manual_seed(seed)"
      ],
      "metadata": {
        "id": "act8OGimTclJ"
      },
      "execution_count": 5,
      "outputs": []
    },
    {
      "cell_type": "markdown",
      "source": [
        "Выпишем все классы для последующего использования."
      ],
      "metadata": {
        "id": "4Homy1Hda0y_"
      }
    },
    {
      "cell_type": "code",
      "source": [
        "class CFG:\n",
        "\n",
        "# Задаем параметры нашего эксперимента\n",
        "\n",
        "  api = \"\"# вписать свой API Wandb\n",
        "  project = \"home_work\"# вписать название эксперимента, который предварительно надо создать в Wandb\n",
        "  entity = \"\"# ввести свой логин\n",
        "  num_epochs = 12 # количество эпох\n",
        "  train_batch_size = 64 # размер батча обучающей выборки\n",
        "  test_batch_size = 512 # размер батча тестовой выборки\n",
        "  num_workers = 4 # количество активных процессов на загрузку данных\n",
        "  lr = 0.001 # learning_rate\n",
        "  seed = 2022 # для функции воспроизводимости\n",
        "  #classes = # классы датасета\n",
        "  wandb = False # флаг использования Wandb\n"
      ],
      "metadata": {
        "id": "X_ltN5rHTgMe"
      },
      "execution_count": 6,
      "outputs": []
    },
    {
      "cell_type": "code",
      "source": [
        "# функция перевода класса конфигурации в словарь\n",
        "\n",
        "def class2dict(f):\n",
        "  return dict((name, getattr(f, name)) for name in dir(f) if not name.startswith('__'))"
      ],
      "metadata": {
        "id": "xnrD-0AQUpHi"
      },
      "execution_count": 7,
      "outputs": []
    },
    {
      "cell_type": "markdown",
      "source": [
        "Обратим внимание, что датасет поменялся, а значит поменлись среднее и стандартное отклонение, их необходимо посмотреть на официальной страничке датасета [ссылка](https://boscoj2008.github.io/customCNN/)."
      ],
      "metadata": {
        "id": "JNdiWxT1a836"
      }
    },
    {
      "cell_type": "code",
      "source": [
        "# будем загружать картинки, сразу преобразуя их в тензор и нормализуя\n",
        "\n",
        "transform = transforms.Compose(\n",
        "    [transforms.ToTensor(),\n",
        "     transforms.Normalize((0.1307, ) , (0.3530))])"
      ],
      "metadata": {
        "id": "i4aZMk4qYCzk"
      },
      "execution_count": 8,
      "outputs": []
    },
    {
      "cell_type": "markdown",
      "source": [
        "Загружаем данные."
      ],
      "metadata": {
        "id": "-TtjNYSee01i"
      }
    },
    {
      "cell_type": "code",
      "source": [
        "#Загружаем дату\n",
        "train_data = datasets.FashionMNIST(root='data', train=True,\n",
        "                                   download=True, transform=transform)\n",
        "test_data = datasets.FashionMNIST(root='data', train=False,\n",
        "                                  download=True, transform=transform)\n",
        "\n",
        "train_loader = torch.utils.data.DataLoader(train_data, batch_size=CFG.train_batch_size,\n",
        "                                            shuffle=True, num_workers=CFG.num_workers, pin_memory=True)\n",
        "\n",
        "test_loader = torch.utils.data.DataLoader(test_data, batch_size=CFG.test_batch_size,\n",
        "                                            shuffle=True, num_workers=CFG.num_workers, pin_memory=True)"
      ],
      "metadata": {
        "id": "M8O3KPn-VCK4",
        "colab": {
          "base_uri": "https://localhost:8080/"
        },
        "outputId": "9d0d1f84-d91f-49de-be53-82863e99bd8f"
      },
      "execution_count": 9,
      "outputs": [
        {
          "output_type": "stream",
          "name": "stdout",
          "text": [
            "Downloading http://fashion-mnist.s3-website.eu-central-1.amazonaws.com/train-images-idx3-ubyte.gz\n",
            "Downloading http://fashion-mnist.s3-website.eu-central-1.amazonaws.com/train-images-idx3-ubyte.gz to data/FashionMNIST/raw/train-images-idx3-ubyte.gz\n"
          ]
        },
        {
          "output_type": "stream",
          "name": "stderr",
          "text": [
            "100%|██████████| 26421880/26421880 [00:01<00:00, 13761376.49it/s]\n"
          ]
        },
        {
          "output_type": "stream",
          "name": "stdout",
          "text": [
            "Extracting data/FashionMNIST/raw/train-images-idx3-ubyte.gz to data/FashionMNIST/raw\n",
            "\n",
            "Downloading http://fashion-mnist.s3-website.eu-central-1.amazonaws.com/train-labels-idx1-ubyte.gz\n",
            "Downloading http://fashion-mnist.s3-website.eu-central-1.amazonaws.com/train-labels-idx1-ubyte.gz to data/FashionMNIST/raw/train-labels-idx1-ubyte.gz\n"
          ]
        },
        {
          "output_type": "stream",
          "name": "stderr",
          "text": [
            "100%|██████████| 29515/29515 [00:00<00:00, 200564.91it/s]\n"
          ]
        },
        {
          "output_type": "stream",
          "name": "stdout",
          "text": [
            "Extracting data/FashionMNIST/raw/train-labels-idx1-ubyte.gz to data/FashionMNIST/raw\n",
            "\n",
            "Downloading http://fashion-mnist.s3-website.eu-central-1.amazonaws.com/t10k-images-idx3-ubyte.gz\n",
            "Downloading http://fashion-mnist.s3-website.eu-central-1.amazonaws.com/t10k-images-idx3-ubyte.gz to data/FashionMNIST/raw/t10k-images-idx3-ubyte.gz\n"
          ]
        },
        {
          "output_type": "stream",
          "name": "stderr",
          "text": [
            "100%|██████████| 4422102/4422102 [00:01<00:00, 3722320.15it/s]\n"
          ]
        },
        {
          "output_type": "stream",
          "name": "stdout",
          "text": [
            "Extracting data/FashionMNIST/raw/t10k-images-idx3-ubyte.gz to data/FashionMNIST/raw\n",
            "\n",
            "Downloading http://fashion-mnist.s3-website.eu-central-1.amazonaws.com/t10k-labels-idx1-ubyte.gz\n",
            "Downloading http://fashion-mnist.s3-website.eu-central-1.amazonaws.com/t10k-labels-idx1-ubyte.gz to data/FashionMNIST/raw/t10k-labels-idx1-ubyte.gz\n"
          ]
        },
        {
          "output_type": "stream",
          "name": "stderr",
          "text": [
            "100%|██████████| 5148/5148 [00:00<00:00, 22398627.59it/s]\n"
          ]
        },
        {
          "output_type": "stream",
          "name": "stdout",
          "text": [
            "Extracting data/FashionMNIST/raw/t10k-labels-idx1-ubyte.gz to data/FashionMNIST/raw\n",
            "\n"
          ]
        },
        {
          "output_type": "stream",
          "name": "stderr",
          "text": [
            "/usr/local/lib/python3.10/dist-packages/torch/utils/data/dataloader.py:560: UserWarning: This DataLoader will create 4 worker processes in total. Our suggested max number of worker in current system is 2, which is smaller than what this DataLoader is going to create. Please be aware that excessive worker creation might get DataLoader running slow or even freeze, lower the worker number to avoid potential slowness/freeze if necessary.\n",
            "  warnings.warn(_create_warning_msg(\n"
          ]
        }
      ]
    },
    {
      "cell_type": "code",
      "source": [
        "# отрисуем несколько картинок\n",
        "\n",
        "dataiter = iter(train_loader)\n",
        "images, labels = next(dataiter)\n",
        "images = images.numpy()\n",
        "\n",
        "fig = plt.figure(figsize=(25, 4))\n",
        "for i in np.arange(8):\n",
        "  plt.subplot(2, 4, i+1)\n",
        "  plt.tight_layout()\n",
        "  plt.imshow(images[i][0], cmap='gray')\n",
        "  plt.xlabel(str(labels[i])[7])\n",
        ""
      ],
      "metadata": {
        "colab": {
          "base_uri": "https://localhost:8080/",
          "height": 309
        },
        "id": "piyI6eoTWpUu",
        "outputId": "d98d9bd5-fd0f-4aa3-873b-cc557bf9b1e4"
      },
      "execution_count": 10,
      "outputs": [
        {
          "output_type": "display_data",
          "data": {
            "text/plain": [
              "<Figure size 2500x400 with 8 Axes>"
            ],
            "image/png": "[encoded data removed]"
          },
          "metadata": {}
        }
      ]
    },
    {
      "cell_type": "markdown",
      "source": [
        "Создаем полносвязаннную нейронную сеть."
      ],
      "metadata": {
        "id": "S2TOF9mHfDSD"
      }
    },
    {
      "cell_type": "code",
      "source": [
        "class My_Net(nn.Module):\n",
        "  def __init__(self):\n",
        "    super(My_Net, self).__init__()\n",
        "    #Организуем 3 слоя полносвязной сети\n",
        "    hidden_1 = 512\n",
        "    hidden_2 = 256\n",
        "    hidden_3 = 256\n",
        "\n",
        "    self.net = nn.Sequential(\n",
        "        nn.Linear(28*28, hidden_1),\n",
        "        nn.GELU(),\n",
        "        nn.Linear(hidden_1, hidden_2),\n",
        "        nn.GELU(),\n",
        "        nn.Linear(hidden_2, hidden_3),\n",
        "        nn.GELU(),\n",
        "        nn.Linear(hidden_3, 10),\n",
        "        nn.Softmax()\n",
        "        )\n",
        "\n",
        "  def forward(self, x):\n",
        "    x = x.view(-1 , 28*28)\n",
        "    x = self.net(x)\n",
        "    return x"
      ],
      "metadata": {
        "id": "CPxbrZdqWq7G"
      },
      "execution_count": 11,
      "outputs": []
    },
    {
      "cell_type": "code",
      "source": [
        "device = torch.device('cuda') if torch.cuda.is_available() else torch.device('CPU')\n",
        "\n",
        "model = My_Net()\n",
        "model = model.to(device)# переводим модель на GPU\n",
        "print(model) # посмотрим на нашу модель"
      ],
      "metadata": {
        "colab": {
          "base_uri": "https://localhost:8080/"
        },
        "id": "z6Xd4VKcW2DA",
        "outputId": "466ba7e6-8aaf-4dd6-8580-f2fc2cc395e7"
      },
      "execution_count": 12,
      "outputs": [
        {
          "output_type": "stream",
          "name": "stdout",
          "text": [
            "My_Net(\n",
            "  (net): Sequential(\n",
            "    (0): Linear(in_features=784, out_features=512, bias=True)\n",
            "    (1): GELU(approximate='none')\n",
            "    (2): Linear(in_features=512, out_features=256, bias=True)\n",
            "    (3): GELU(approximate='none')\n",
            "    (4): Linear(in_features=256, out_features=256, bias=True)\n",
            "    (5): GELU(approximate='none')\n",
            "    (6): Linear(in_features=256, out_features=10, bias=True)\n",
            "    (7): Softmax(dim=None)\n",
            "  )\n",
            ")\n"
          ]
        }
      ]
    },
    {
      "cell_type": "code",
      "source": [
        "# функция потерь (cross-entropy) для 10 классов\n",
        "criterion = nn.CrossEntropyLoss()\n",
        "\n",
        "# Adagrad  со скоростью обучения (learning rate) = 0.01\n",
        "optimizer = torch.optim.Adagrad(params=model.parameters(),\n",
        "                                lr=CFG.lr)"
      ],
      "metadata": {
        "id": "7atYx0-FW5-K"
      },
      "execution_count": 13,
      "outputs": []
    },
    {
      "cell_type": "code",
      "source": [
        "# функция обучения модели\n",
        "def train(model, device, train_loader, optimizer, criterion, epoch, WANDB):\n",
        "    model.train()# обязательно переводим в режим обучения\n",
        "    test_loss = 0\n",
        "    correct = 0\n",
        "\n",
        "    n_ex = len(train_loader)\n",
        "\n",
        "    for batch_idx, (data, target) in tqdm(enumerate(train_loader), total=n_ex):\n",
        "        data, target = data.to(device), target.to(device) # переводим картинки и таргеты на GPU\n",
        "        # обнуляем градиенты!\n",
        "        optimizer.zero_grad()\n",
        "        # прямой проход\n",
        "        output = model.forward(data)\n",
        "        pred = output.argmax(dim=1, keepdim=True)\n",
        "        correct += pred.eq(target.view_as(pred)).sum().item() # определяем корректность предсказания\n",
        "        train_loss = criterion(output, target) # считаем значение функции потерь\n",
        "        # обратный проход\n",
        "        train_loss.backward()\n",
        "        # делаем градиентный шаг оптимизатором\n",
        "        optimizer.step()\n",
        "        # считаем метрики и лосс\n",
        "    tqdm.write('\\nTrain set: Average loss: {:.4f}, Accuracy: {:.0f}%'.format(\n",
        "        train_loss, 100. * correct / len(train_loader.dataset)))\n",
        "\n",
        "    if WANDB:\n",
        "        wandb.log({'train_loss': train_loss,\n",
        "                   'train_accuracy': correct / len(train_loader.dataset)})"
      ],
      "metadata": {
        "id": "5ow_sFgBW8bm"
      },
      "execution_count": 14,
      "outputs": []
    },
    {
      "cell_type": "code",
      "source": [
        "# функция тестирования\n",
        "def test(model, device, test_loader, criterion, WANDB):\n",
        "    model.eval()# переводем модель в режим инференса\n",
        "    test_loss = 0\n",
        "    correct = 0\n",
        "    # показываем, что обученич нет и градиенты не обновляются\n",
        "    with torch.no_grad():\n",
        "        for data, target in test_loader:\n",
        "            data, target = data.to(device), target.to(device)\n",
        "            output = model(data)\n",
        "            test_loss=criterion(output, target) # считаем значение функции потерь\n",
        "            pred = output.argmax(dim=1, keepdim=True)\n",
        "            correct += pred.eq(target.view_as(pred)).sum().item()\n",
        "            # считаем метрики\n",
        "    tqdm.write('Test set: Average loss: {:.4f}, Accuracy: {:.0f}%'.format(\n",
        "        test_loss, 100. * correct / len(test_loader.dataset)))\n",
        "\n",
        "    if WANDB:\n",
        "        wandb.log({'test_loss': test_loss,\n",
        "                   'test_accuracy': correct / len(test_loader.dataset)})"
      ],
      "metadata": {
        "id": "sxMjlNRZXAW8"
      },
      "execution_count": 15,
      "outputs": []
    },
    {
      "cell_type": "code",
      "source": [
        "# основная функция для экспериментов\n",
        "def main(model):\n",
        "    # настраиваем окружение для wandb\n",
        "    if CFG.wandb:\n",
        "        os.environ[\"WANDB_API_KEY\"] = CFG.api\n",
        "        wandb.init(project=CFG.project, entity=CFG.entity, reinit=True, config=class2dict(CFG))\n",
        "\n",
        "    use_cuda = torch.cuda.is_available()\n",
        "    # фиксируем сиды\n",
        "    seed_everything(CFG.seed)\n",
        "    device = torch.device('cuda') if torch.cuda.is_available() else torch.device('CPU')\n",
        "\n",
        "    if CFG.wandb:\n",
        "        wandb.watch(model, log='all') # логируем все (метрики, лоссы, градиенты)\n",
        "\n",
        "    for epoch in range(1, CFG.num_epochs + 1): # цикл на эпохи\n",
        "        print('\\nEpoch:', epoch)\n",
        "        train(model, device, train_loader, optimizer, criterion, epoch, CFG.wandb)\n",
        "        test(model, device, test_loader, criterion, CFG.wandb)\n",
        "    print('Training is end!')"
      ],
      "metadata": {
        "id": "wOHQ0Wt9XFEh"
      },
      "execution_count": 16,
      "outputs": []
    },
    {
      "cell_type": "code",
      "source": [
        "gpu_info = !nvidia-smi\n",
        "gpu_info = '\\n'.join(gpu_info)\n",
        "print(gpu_info)"
      ],
      "metadata": {
        "colab": {
          "base_uri": "https://localhost:8080/"
        },
        "id": "ddOOVyDhXJlH",
        "outputId": "454fd7e7-a913-46c8-f9df-fbfce61882d0"
      },
      "execution_count": 17,
      "outputs": [
        {
          "output_type": "stream",
          "name": "stdout",
          "text": [
            "Thu Oct  5 16:07:17 2023       \n",
            "+-----------------------------------------------------------------------------+\n",
            "| NVIDIA-SMI 525.105.17   Driver Version: 525.105.17   CUDA Version: 12.0     |\n",
            "|-------------------------------+----------------------+----------------------+\n",
            "| GPU  Name        Persistence-M| Bus-Id        Disp.A | Volatile Uncorr. ECC |\n",
            "| Fan  Temp  Perf  Pwr:Usage/Cap|         Memory-Usage | GPU-Util  Compute M. |\n",
            "|                               |                      |               MIG M. |\n",
            "|===============================+======================+======================|\n",
            "|   0  Tesla T4            Off  | 00000000:00:04.0 Off |                    0 |\n",
            "| N/A   41C    P0    26W /  70W |    621MiB / 15360MiB |      0%      Default |\n",
            "|                               |                      |                  N/A |\n",
            "+-------------------------------+----------------------+----------------------+\n",
            "                                                                               \n",
            "+-----------------------------------------------------------------------------+\n",
            "| Processes:                                                                  |\n",
            "|  GPU   GI   CI        PID   Type   Process name                  GPU Memory |\n",
            "|        ID   ID                                                   Usage      |\n",
            "|=============================================================================|\n",
            "+-----------------------------------------------------------------------------+\n"
          ]
        }
      ]
    },
    {
      "cell_type": "code",
      "source": [
        "#Первая модель\n",
        "class My_Net2(nn.Module):\n",
        "  def __init__(self):\n",
        "    super(My_Net, self).__init__()\n",
        "    #Организуем 3 слоя полносвязной сети\n",
        "    hidden_1 = 512\n",
        "    hidden_2 = 256\n",
        "    hidden_3 = 256\n",
        "\n",
        "    self.net = nn.Sequential(\n",
        "        nn.Linear(28*28, hidden_1),\n",
        "        nn.GELU(),\n",
        "        nn.Linear(hidden_1, hidden_2),\n",
        "        nn.GELU(),\n",
        "        nn.Linear(hidden_2, hidden_3),\n",
        "        nn.GELU(),\n",
        "        nn.Linear(hidden_3, 10),\n",
        "        nn.Softmax()\n",
        "        )\n",
        "\n",
        "  def forward(self, x):\n",
        "    x = x.view(-1 , 28*28)\n",
        "    x = self.net(x)\n",
        "    return x"
      ],
      "metadata": {
        "id": "_GL8CKOjXN7F"
      },
      "execution_count": 18,
      "outputs": []
    },
    {
      "cell_type": "code",
      "source": [
        "main(model)"
      ],
      "metadata": {
        "id": "GUnN4kneXL1E",
        "colab": {
          "base_uri": "https://localhost:8080/"
        },
        "outputId": "94121b3e-2148-465c-db9c-32a26909da83"
      },
      "execution_count": 19,
      "outputs": [
        {
          "output_type": "stream",
          "name": "stdout",
          "text": [
            "\n",
            "Epoch: 1\n"
          ]
        },
        {
          "output_type": "stream",
          "name": "stderr",
          "text": [
            "  0%|          | 0/938 [00:00<?, ?it/s]/usr/local/lib/python3.10/dist-packages/torch/nn/modules/container.py:217: UserWarning: Implicit dimension choice for softmax has been deprecated. Change the call to include dim=X as an argument.\n",
            "  input = module(input)\n",
            "100%|██████████| 938/938 [00:19<00:00, 46.96it/s]"
          ]
        },
        {
          "output_type": "stream",
          "name": "stdout",
          "text": [
            "\n",
            "Train set: Average loss: 1.6599, Accuracy: 78%\n"
          ]
        },
        {
          "output_type": "stream",
          "name": "stderr",
          "text": [
            "\n"
          ]
        },
        {
          "output_type": "stream",
          "name": "stdout",
          "text": [
            "Test set: Average loss: 1.6447, Accuracy: 81%\n",
            "\n",
            "Epoch: 2\n"
          ]
        },
        {
          "output_type": "stream",
          "name": "stderr",
          "text": [
            "100%|██████████| 938/938 [00:15<00:00, 61.59it/s]"
          ]
        },
        {
          "output_type": "stream",
          "name": "stdout",
          "text": [
            "\n",
            "Train set: Average loss: 1.5393, Accuracy: 83%\n"
          ]
        },
        {
          "output_type": "stream",
          "name": "stderr",
          "text": [
            "\n"
          ]
        },
        {
          "output_type": "stream",
          "name": "stdout",
          "text": [
            "Test set: Average loss: 1.6376, Accuracy: 83%\n",
            "\n",
            "Epoch: 3\n"
          ]
        },
        {
          "output_type": "stream",
          "name": "stderr",
          "text": [
            "100%|██████████| 938/938 [00:15<00:00, 61.57it/s]"
          ]
        },
        {
          "output_type": "stream",
          "name": "stdout",
          "text": [
            "\n",
            "Train set: Average loss: 1.6117, Accuracy: 84%\n"
          ]
        },
        {
          "output_type": "stream",
          "name": "stderr",
          "text": [
            "\n"
          ]
        },
        {
          "output_type": "stream",
          "name": "stdout",
          "text": [
            "Test set: Average loss: 1.6724, Accuracy: 83%\n",
            "\n",
            "Epoch: 4\n"
          ]
        },
        {
          "output_type": "stream",
          "name": "stderr",
          "text": [
            "100%|██████████| 938/938 [00:16<00:00, 55.85it/s]"
          ]
        },
        {
          "output_type": "stream",
          "name": "stdout",
          "text": [
            "\n",
            "Train set: Average loss: 1.6963, Accuracy: 85%\n"
          ]
        },
        {
          "output_type": "stream",
          "name": "stderr",
          "text": [
            "\n"
          ]
        },
        {
          "output_type": "stream",
          "name": "stdout",
          "text": [
            "Test set: Average loss: 1.6075, Accuracy: 83%\n",
            "\n",
            "Epoch: 5\n"
          ]
        },
        {
          "output_type": "stream",
          "name": "stderr",
          "text": [
            "100%|██████████| 938/938 [00:15<00:00, 60.87it/s]"
          ]
        },
        {
          "output_type": "stream",
          "name": "stdout",
          "text": [
            "\n",
            "Train set: Average loss: 1.6081, Accuracy: 85%\n"
          ]
        },
        {
          "output_type": "stream",
          "name": "stderr",
          "text": [
            "\n"
          ]
        },
        {
          "output_type": "stream",
          "name": "stdout",
          "text": [
            "Test set: Average loss: 1.6276, Accuracy: 84%\n",
            "\n",
            "Epoch: 6\n"
          ]
        },
        {
          "output_type": "stream",
          "name": "stderr",
          "text": [
            "100%|██████████| 938/938 [00:14<00:00, 62.82it/s]"
          ]
        },
        {
          "output_type": "stream",
          "name": "stdout",
          "text": [
            "\n",
            "Train set: Average loss: 1.5391, Accuracy: 86%\n"
          ]
        },
        {
          "output_type": "stream",
          "name": "stderr",
          "text": [
            "\n"
          ]
        },
        {
          "output_type": "stream",
          "name": "stdout",
          "text": [
            "Test set: Average loss: 1.5606, Accuracy: 84%\n",
            "\n",
            "Epoch: 7\n"
          ]
        },
        {
          "output_type": "stream",
          "name": "stderr",
          "text": [
            "100%|██████████| 938/938 [00:15<00:00, 62.41it/s]"
          ]
        },
        {
          "output_type": "stream",
          "name": "stdout",
          "text": [
            "\n",
            "Train set: Average loss: 1.6111, Accuracy: 86%\n"
          ]
        },
        {
          "output_type": "stream",
          "name": "stderr",
          "text": [
            "\n"
          ]
        },
        {
          "output_type": "stream",
          "name": "stdout",
          "text": [
            "Test set: Average loss: 1.6409, Accuracy: 84%\n",
            "\n",
            "Epoch: 8\n"
          ]
        },
        {
          "output_type": "stream",
          "name": "stderr",
          "text": [
            "100%|██████████| 938/938 [00:15<00:00, 62.20it/s]"
          ]
        },
        {
          "output_type": "stream",
          "name": "stdout",
          "text": [
            "\n",
            "Train set: Average loss: 1.6051, Accuracy: 86%\n"
          ]
        },
        {
          "output_type": "stream",
          "name": "stderr",
          "text": [
            "\n"
          ]
        },
        {
          "output_type": "stream",
          "name": "stdout",
          "text": [
            "Test set: Average loss: 1.5916, Accuracy: 85%\n",
            "\n",
            "Epoch: 9\n"
          ]
        },
        {
          "output_type": "stream",
          "name": "stderr",
          "text": [
            "100%|██████████| 938/938 [00:14<00:00, 62.90it/s]"
          ]
        },
        {
          "output_type": "stream",
          "name": "stdout",
          "text": [
            "\n",
            "Train set: Average loss: 1.7134, Accuracy: 86%\n"
          ]
        },
        {
          "output_type": "stream",
          "name": "stderr",
          "text": [
            "\n"
          ]
        },
        {
          "output_type": "stream",
          "name": "stdout",
          "text": [
            "Test set: Average loss: 1.6002, Accuracy: 85%\n",
            "\n",
            "Epoch: 10\n"
          ]
        },
        {
          "output_type": "stream",
          "name": "stderr",
          "text": [
            "100%|██████████| 938/938 [00:14<00:00, 63.42it/s]"
          ]
        },
        {
          "output_type": "stream",
          "name": "stdout",
          "text": [
            "\n",
            "Train set: Average loss: 1.5643, Accuracy: 86%\n"
          ]
        },
        {
          "output_type": "stream",
          "name": "stderr",
          "text": [
            "\n"
          ]
        },
        {
          "output_type": "stream",
          "name": "stdout",
          "text": [
            "Test set: Average loss: 1.6018, Accuracy: 85%\n",
            "\n",
            "Epoch: 11\n"
          ]
        },
        {
          "output_type": "stream",
          "name": "stderr",
          "text": [
            "100%|██████████| 938/938 [00:14<00:00, 62.61it/s]"
          ]
        },
        {
          "output_type": "stream",
          "name": "stdout",
          "text": [
            "\n",
            "Train set: Average loss: 1.6228, Accuracy: 87%\n"
          ]
        },
        {
          "output_type": "stream",
          "name": "stderr",
          "text": [
            "\n"
          ]
        },
        {
          "output_type": "stream",
          "name": "stdout",
          "text": [
            "Test set: Average loss: 1.5962, Accuracy: 85%\n",
            "\n",
            "Epoch: 12\n"
          ]
        },
        {
          "output_type": "stream",
          "name": "stderr",
          "text": [
            "100%|██████████| 938/938 [00:15<00:00, 62.27it/s]"
          ]
        },
        {
          "output_type": "stream",
          "name": "stdout",
          "text": [
            "\n",
            "Train set: Average loss: 1.5237, Accuracy: 87%\n"
          ]
        },
        {
          "output_type": "stream",
          "name": "stderr",
          "text": [
            "\n"
          ]
        },
        {
          "output_type": "stream",
          "name": "stdout",
          "text": [
            "Test set: Average loss: 1.6120, Accuracy: 85%\n",
            "Training is end!\n"
          ]
        }
      ]
    },
    {
      "cell_type": "markdown",
      "source": [
        "Получился посредственный результат\n"
      ],
      "metadata": {
        "id": "BTEfkRuFmzoQ"
      }
    },
    {
      "cell_type": "markdown",
      "source": [
        "Пробуем другие оптимизаторы."
      ],
      "metadata": {
        "id": "D1Erk-nsfWxd"
      }
    },
    {
      "cell_type": "code",
      "source": [
        "# Adagrad  со скоростью обучения (learning rate) = 0.01\n",
        "optimizer = torch.optim.Adam(params=model.parameters(),\n",
        "                                lr=CFG.lr)"
      ],
      "metadata": {
        "id": "e8X_xVzMlWYm"
      },
      "execution_count": 20,
      "outputs": []
    },
    {
      "cell_type": "code",
      "source": [
        "main(model)"
      ],
      "metadata": {
        "colab": {
          "base_uri": "https://localhost:8080/"
        },
        "id": "MOSywx1Cld-G",
        "outputId": "414425bb-8dbc-4536-a606-d64bfb909109"
      },
      "execution_count": 21,
      "outputs": [
        {
          "output_type": "stream",
          "name": "stdout",
          "text": [
            "\n",
            "Epoch: 1\n"
          ]
        },
        {
          "output_type": "stream",
          "name": "stderr",
          "text": [
            "100%|██████████| 938/938 [00:18<00:00, 52.11it/s]\n"
          ]
        },
        {
          "output_type": "stream",
          "name": "stdout",
          "text": [
            "\n",
            "Train set: Average loss: 1.7653, Accuracy: 69%\n",
            "Test set: Average loss: 1.7516, Accuracy: 64%\n",
            "\n",
            "Epoch: 2\n"
          ]
        },
        {
          "output_type": "stream",
          "name": "stderr",
          "text": [
            "100%|██████████| 938/938 [00:16<00:00, 55.41it/s]"
          ]
        },
        {
          "output_type": "stream",
          "name": "stdout",
          "text": [
            "\n",
            "Train set: Average loss: 1.7424, Accuracy: 70%\n"
          ]
        },
        {
          "output_type": "stream",
          "name": "stderr",
          "text": [
            "\n"
          ]
        },
        {
          "output_type": "stream",
          "name": "stdout",
          "text": [
            "Test set: Average loss: 1.7809, Accuracy: 71%\n",
            "\n",
            "Epoch: 3\n"
          ]
        },
        {
          "output_type": "stream",
          "name": "stderr",
          "text": [
            "100%|██████████| 938/938 [00:14<00:00, 62.58it/s]"
          ]
        },
        {
          "output_type": "stream",
          "name": "stdout",
          "text": [
            "\n",
            "Train set: Average loss: 1.7758, Accuracy: 70%\n"
          ]
        },
        {
          "output_type": "stream",
          "name": "stderr",
          "text": [
            "\n"
          ]
        },
        {
          "output_type": "stream",
          "name": "stdout",
          "text": [
            "Test set: Average loss: 1.8917, Accuracy: 61%\n",
            "\n",
            "Epoch: 4\n"
          ]
        },
        {
          "output_type": "stream",
          "name": "stderr",
          "text": [
            "100%|██████████| 938/938 [00:15<00:00, 61.57it/s]"
          ]
        },
        {
          "output_type": "stream",
          "name": "stdout",
          "text": [
            "\n",
            "Train set: Average loss: 1.9299, Accuracy: 68%\n"
          ]
        },
        {
          "output_type": "stream",
          "name": "stderr",
          "text": [
            "\n"
          ]
        },
        {
          "output_type": "stream",
          "name": "stdout",
          "text": [
            "Test set: Average loss: 1.8692, Accuracy: 58%\n",
            "\n",
            "Epoch: 5\n"
          ]
        },
        {
          "output_type": "stream",
          "name": "stderr",
          "text": [
            "100%|██████████| 938/938 [00:15<00:00, 62.20it/s]"
          ]
        },
        {
          "output_type": "stream",
          "name": "stdout",
          "text": [
            "\n",
            "Train set: Average loss: 1.7737, Accuracy: 69%\n"
          ]
        },
        {
          "output_type": "stream",
          "name": "stderr",
          "text": [
            "\n"
          ]
        },
        {
          "output_type": "stream",
          "name": "stdout",
          "text": [
            "Test set: Average loss: 1.8066, Accuracy: 62%\n",
            "\n",
            "Epoch: 6\n"
          ]
        },
        {
          "output_type": "stream",
          "name": "stderr",
          "text": [
            "100%|██████████| 938/938 [00:20<00:00, 46.10it/s]"
          ]
        },
        {
          "output_type": "stream",
          "name": "stdout",
          "text": [
            "\n",
            "Train set: Average loss: 1.7737, Accuracy: 69%\n"
          ]
        },
        {
          "output_type": "stream",
          "name": "stderr",
          "text": [
            "\n"
          ]
        },
        {
          "output_type": "stream",
          "name": "stdout",
          "text": [
            "Test set: Average loss: 1.7957, Accuracy: 62%\n",
            "\n",
            "Epoch: 7\n"
          ]
        },
        {
          "output_type": "stream",
          "name": "stderr",
          "text": [
            "100%|██████████| 938/938 [00:15<00:00, 58.66it/s]"
          ]
        },
        {
          "output_type": "stream",
          "name": "stdout",
          "text": [
            "\n",
            "Train set: Average loss: 1.7112, Accuracy: 64%\n"
          ]
        },
        {
          "output_type": "stream",
          "name": "stderr",
          "text": [
            "\n"
          ]
        },
        {
          "output_type": "stream",
          "name": "stdout",
          "text": [
            "Test set: Average loss: 1.8803, Accuracy: 60%\n",
            "\n",
            "Epoch: 8\n"
          ]
        },
        {
          "output_type": "stream",
          "name": "stderr",
          "text": [
            "100%|██████████| 938/938 [00:15<00:00, 62.36it/s]"
          ]
        },
        {
          "output_type": "stream",
          "name": "stdout",
          "text": [
            "\n",
            "Train set: Average loss: 1.8362, Accuracy: 65%\n"
          ]
        },
        {
          "output_type": "stream",
          "name": "stderr",
          "text": [
            "\n"
          ]
        },
        {
          "output_type": "stream",
          "name": "stdout",
          "text": [
            "Test set: Average loss: 1.8066, Accuracy: 64%\n",
            "\n",
            "Epoch: 9\n"
          ]
        },
        {
          "output_type": "stream",
          "name": "stderr",
          "text": [
            "100%|██████████| 938/938 [00:15<00:00, 61.88it/s]"
          ]
        },
        {
          "output_type": "stream",
          "name": "stdout",
          "text": [
            "\n",
            "Train set: Average loss: 2.0237, Accuracy: 62%\n"
          ]
        },
        {
          "output_type": "stream",
          "name": "stderr",
          "text": [
            "\n"
          ]
        },
        {
          "output_type": "stream",
          "name": "stdout",
          "text": [
            "Test set: Average loss: 1.9464, Accuracy: 49%\n",
            "\n",
            "Epoch: 10\n"
          ]
        },
        {
          "output_type": "stream",
          "name": "stderr",
          "text": [
            "100%|██████████| 938/938 [00:15<00:00, 62.49it/s]"
          ]
        },
        {
          "output_type": "stream",
          "name": "stdout",
          "text": [
            "\n",
            "Train set: Average loss: 1.8987, Accuracy: 49%\n"
          ]
        },
        {
          "output_type": "stream",
          "name": "stderr",
          "text": [
            "\n"
          ]
        },
        {
          "output_type": "stream",
          "name": "stdout",
          "text": [
            "Test set: Average loss: 1.8288, Accuracy: 64%\n",
            "\n",
            "Epoch: 11\n"
          ]
        },
        {
          "output_type": "stream",
          "name": "stderr",
          "text": [
            "100%|██████████| 938/938 [00:15<00:00, 61.80it/s]"
          ]
        },
        {
          "output_type": "stream",
          "name": "stdout",
          "text": [
            "\n",
            "Train set: Average loss: 1.6487, Accuracy: 64%\n"
          ]
        },
        {
          "output_type": "stream",
          "name": "stderr",
          "text": [
            "\n"
          ]
        },
        {
          "output_type": "stream",
          "name": "stdout",
          "text": [
            "Test set: Average loss: 1.7338, Accuracy: 71%\n",
            "\n",
            "Epoch: 12\n"
          ]
        },
        {
          "output_type": "stream",
          "name": "stderr",
          "text": [
            "100%|██████████| 938/938 [00:16<00:00, 57.79it/s]"
          ]
        },
        {
          "output_type": "stream",
          "name": "stdout",
          "text": [
            "\n",
            "Train set: Average loss: 1.7424, Accuracy: 68%\n"
          ]
        },
        {
          "output_type": "stream",
          "name": "stderr",
          "text": [
            "\n"
          ]
        },
        {
          "output_type": "stream",
          "name": "stdout",
          "text": [
            "Test set: Average loss: 1.7994, Accuracy: 68%\n",
            "Training is end!\n"
          ]
        }
      ]
    },
    {
      "cell_type": "code",
      "source": [
        "#Созданим архитектуру сверочной модели\n",
        "class MyNet3(nn.Module):\n",
        "  def __init__(self):\n",
        "    super(MyNet3, self).__init__()\n",
        "\n",
        "    self.cnn1 = nn.Conv2d(in_channels=1, out_channels=16, kernel_size=5, stride=1, padding=2)\n",
        "    #Нормируем\n",
        "    self.norm1 = nn.BatchNorm2d(16)\n",
        "    #Устанавливаем исхожные веса\n",
        "    nn.init.xavier_uniform(self.cnn1.weight)\n",
        "    #Оставляем лишь максимальное значение\n",
        "    self.maxpool1 = nn.MaxPool2d(kernel_size=2)\n",
        "\n",
        "    self.cnn2 = nn.Conv2d(in_channels= 16, out_channels=32, kernel_size=5, stride=1, padding=2)\n",
        "    #Нормируем\n",
        "    self.norm2 = nn.BatchNorm2d(32)\n",
        "    #Устанавливаем исхожные веса\n",
        "    nn.init.xavier_uniform(self.cnn2.weight)\n",
        "    #Оставляем лишь максимальное значение\n",
        "    self.maxpool2 = nn.MaxPool2d(kernel_size=2)\n",
        "\n",
        "    self.fc1 = nn.Linear(32*7*7, 10)\n",
        "\n",
        "  def forward(self, x):\n",
        "    x = self.cnn1(x)\n",
        "    x = F.relu(x)\n",
        "    x = self.norm1(x)\n",
        "\n",
        "    x = self.maxpool1(x)\n",
        "\n",
        "    x = self.cnn2(x)\n",
        "    x = F.relu(x)\n",
        "    x = self.norm2(x)\n",
        "\n",
        "    x = self.maxpool2(x)\n",
        "\n",
        "    x = x.view(x.size(0),-1)\n",
        "    x = self.fc1(x)\n",
        "    return x\n"
      ],
      "metadata": {
        "id": "0BQEPlERfjAZ"
      },
      "execution_count": 25,
      "outputs": []
    },
    {
      "cell_type": "code",
      "source": [
        "model2 = MyNet3()\n",
        "model2.to(device)\n",
        "print(model2)"
      ],
      "metadata": {
        "colab": {
          "base_uri": "https://localhost:8080/"
        },
        "id": "roSVhuW7j5-8",
        "outputId": "769adb4f-c704-4e77-ed29-397b25fdf616"
      },
      "execution_count": 26,
      "outputs": [
        {
          "output_type": "stream",
          "name": "stdout",
          "text": [
            "MyNet3(\n",
            "  (cnn1): Conv2d(1, 16, kernel_size=(5, 5), stride=(1, 1), padding=(2, 2))\n",
            "  (norm1): BatchNorm2d(16, eps=1e-05, momentum=0.1, affine=True, track_running_stats=True)\n",
            "  (maxpool1): MaxPool2d(kernel_size=2, stride=2, padding=0, dilation=1, ceil_mode=False)\n",
            "  (cnn2): Conv2d(16, 32, kernel_size=(5, 5), stride=(1, 1), padding=(2, 2))\n",
            "  (norm2): BatchNorm2d(32, eps=1e-05, momentum=0.1, affine=True, track_running_stats=True)\n",
            "  (maxpool2): MaxPool2d(kernel_size=2, stride=2, padding=0, dilation=1, ceil_mode=False)\n",
            "  (fc1): Linear(in_features=1568, out_features=10, bias=True)\n",
            ")\n"
          ]
        },
        {
          "output_type": "stream",
          "name": "stderr",
          "text": [
            "<ipython-input-25-49d48bc81ac5>:10: UserWarning: nn.init.xavier_uniform is now deprecated in favor of nn.init.xavier_uniform_.\n",
            "  nn.init.xavier_uniform(self.cnn1.weight)\n",
            "<ipython-input-25-49d48bc81ac5>:18: UserWarning: nn.init.xavier_uniform is now deprecated in favor of nn.init.xavier_uniform_.\n",
            "  nn.init.xavier_uniform(self.cnn2.weight)\n"
          ]
        }
      ]
    },
    {
      "cell_type": "code",
      "source": [
        "# функция потерь (cross-entropy) для 10 классов\n",
        "criterion = nn.CrossEntropyLoss()\n",
        "\n",
        "# Adam со скоростью обучения (learning rate) = 0.01\n",
        "optimizer = torch.optim.Adam(params=model2.parameters(),\n",
        "                                lr=CFG.lr)"
      ],
      "metadata": {
        "id": "mRNzsf8Rytwa"
      },
      "execution_count": 27,
      "outputs": []
    },
    {
      "cell_type": "code",
      "source": [
        "main(model2)"
      ],
      "metadata": {
        "colab": {
          "base_uri": "https://localhost:8080/"
        },
        "id": "JPDyD9MIkjFz",
        "outputId": "2c6604f9-9cc4-4106-de82-9190a2784e6c"
      },
      "execution_count": 28,
      "outputs": [
        {
          "output_type": "stream",
          "name": "stdout",
          "text": [
            "\n",
            "Epoch: 1\n"
          ]
        },
        {
          "output_type": "stream",
          "name": "stderr",
          "text": [
            "/usr/local/lib/python3.10/dist-packages/torch/utils/data/dataloader.py:560: UserWarning: This DataLoader will create 4 worker processes in total. Our suggested max number of worker in current system is 2, which is smaller than what this DataLoader is going to create. Please be aware that excessive worker creation might get DataLoader running slow or even freeze, lower the worker number to avoid potential slowness/freeze if necessary.\n",
            "  warnings.warn(_create_warning_msg(\n",
            "100%|██████████| 938/938 [00:19<00:00, 47.54it/s]"
          ]
        },
        {
          "output_type": "stream",
          "name": "stdout",
          "text": [
            "\n",
            "Train set: Average loss: 0.2940, Accuracy: 87%\n"
          ]
        },
        {
          "output_type": "stream",
          "name": "stderr",
          "text": [
            "\n"
          ]
        },
        {
          "output_type": "stream",
          "name": "stdout",
          "text": [
            "Test set: Average loss: 0.3000, Accuracy: 87%\n",
            "\n",
            "Epoch: 2\n"
          ]
        },
        {
          "output_type": "stream",
          "name": "stderr",
          "text": [
            "100%|██████████| 938/938 [00:15<00:00, 59.21it/s]"
          ]
        },
        {
          "output_type": "stream",
          "name": "stdout",
          "text": [
            "\n",
            "Train set: Average loss: 0.1324, Accuracy: 90%\n"
          ]
        },
        {
          "output_type": "stream",
          "name": "stderr",
          "text": [
            "\n"
          ]
        },
        {
          "output_type": "stream",
          "name": "stdout",
          "text": [
            "Test set: Average loss: 0.3678, Accuracy: 89%\n",
            "\n",
            "Epoch: 3\n"
          ]
        },
        {
          "output_type": "stream",
          "name": "stderr",
          "text": [
            "100%|██████████| 938/938 [00:15<00:00, 62.22it/s]"
          ]
        },
        {
          "output_type": "stream",
          "name": "stdout",
          "text": [
            "\n",
            "Train set: Average loss: 0.1619, Accuracy: 91%\n"
          ]
        },
        {
          "output_type": "stream",
          "name": "stderr",
          "text": [
            "\n"
          ]
        },
        {
          "output_type": "stream",
          "name": "stdout",
          "text": [
            "Test set: Average loss: 0.4073, Accuracy: 90%\n",
            "\n",
            "Epoch: 4\n"
          ]
        },
        {
          "output_type": "stream",
          "name": "stderr",
          "text": [
            "100%|██████████| 938/938 [00:15<00:00, 61.31it/s]"
          ]
        },
        {
          "output_type": "stream",
          "name": "stdout",
          "text": [
            "\n",
            "Train set: Average loss: 0.3021, Accuracy: 92%\n"
          ]
        },
        {
          "output_type": "stream",
          "name": "stderr",
          "text": [
            "\n"
          ]
        },
        {
          "output_type": "stream",
          "name": "stdout",
          "text": [
            "Test set: Average loss: 0.2087, Accuracy: 90%\n",
            "\n",
            "Epoch: 5\n"
          ]
        },
        {
          "output_type": "stream",
          "name": "stderr",
          "text": [
            "100%|██████████| 938/938 [00:15<00:00, 61.19it/s]"
          ]
        },
        {
          "output_type": "stream",
          "name": "stdout",
          "text": [
            "\n",
            "Train set: Average loss: 0.0436, Accuracy: 93%\n"
          ]
        },
        {
          "output_type": "stream",
          "name": "stderr",
          "text": [
            "\n"
          ]
        },
        {
          "output_type": "stream",
          "name": "stdout",
          "text": [
            "Test set: Average loss: 0.3636, Accuracy: 89%\n",
            "\n",
            "Epoch: 6\n"
          ]
        },
        {
          "output_type": "stream",
          "name": "stderr",
          "text": [
            "100%|██████████| 938/938 [00:15<00:00, 62.03it/s]"
          ]
        },
        {
          "output_type": "stream",
          "name": "stdout",
          "text": [
            "\n",
            "Train set: Average loss: 0.1500, Accuracy: 93%\n"
          ]
        },
        {
          "output_type": "stream",
          "name": "stderr",
          "text": [
            "\n"
          ]
        },
        {
          "output_type": "stream",
          "name": "stdout",
          "text": [
            "Test set: Average loss: 0.1651, Accuracy: 90%\n",
            "\n",
            "Epoch: 7\n"
          ]
        },
        {
          "output_type": "stream",
          "name": "stderr",
          "text": [
            "100%|██████████| 938/938 [00:15<00:00, 61.31it/s]"
          ]
        },
        {
          "output_type": "stream",
          "name": "stdout",
          "text": [
            "\n",
            "Train set: Average loss: 0.1917, Accuracy: 94%\n"
          ]
        },
        {
          "output_type": "stream",
          "name": "stderr",
          "text": [
            "\n"
          ]
        },
        {
          "output_type": "stream",
          "name": "stdout",
          "text": [
            "Test set: Average loss: 0.3511, Accuracy: 91%\n",
            "\n",
            "Epoch: 8\n"
          ]
        },
        {
          "output_type": "stream",
          "name": "stderr",
          "text": [
            "100%|██████████| 938/938 [00:15<00:00, 62.03it/s]"
          ]
        },
        {
          "output_type": "stream",
          "name": "stdout",
          "text": [
            "\n",
            "Train set: Average loss: 0.1351, Accuracy: 94%\n"
          ]
        },
        {
          "output_type": "stream",
          "name": "stderr",
          "text": [
            "\n"
          ]
        },
        {
          "output_type": "stream",
          "name": "stdout",
          "text": [
            "Test set: Average loss: 0.2271, Accuracy: 90%\n",
            "\n",
            "Epoch: 9\n"
          ]
        },
        {
          "output_type": "stream",
          "name": "stderr",
          "text": [
            "100%|██████████| 938/938 [00:15<00:00, 60.26it/s]"
          ]
        },
        {
          "output_type": "stream",
          "name": "stdout",
          "text": [
            "\n",
            "Train set: Average loss: 0.1544, Accuracy: 95%\n"
          ]
        },
        {
          "output_type": "stream",
          "name": "stderr",
          "text": [
            "\n"
          ]
        },
        {
          "output_type": "stream",
          "name": "stdout",
          "text": [
            "Test set: Average loss: 0.3148, Accuracy: 90%\n",
            "\n",
            "Epoch: 10\n"
          ]
        },
        {
          "output_type": "stream",
          "name": "stderr",
          "text": [
            "100%|██████████| 938/938 [00:15<00:00, 61.21it/s]"
          ]
        },
        {
          "output_type": "stream",
          "name": "stdout",
          "text": [
            "\n",
            "Train set: Average loss: 0.3072, Accuracy: 95%\n"
          ]
        },
        {
          "output_type": "stream",
          "name": "stderr",
          "text": [
            "\n"
          ]
        },
        {
          "output_type": "stream",
          "name": "stdout",
          "text": [
            "Test set: Average loss: 0.2560, Accuracy: 91%\n",
            "\n",
            "Epoch: 11\n"
          ]
        },
        {
          "output_type": "stream",
          "name": "stderr",
          "text": [
            "100%|██████████| 938/938 [00:15<00:00, 61.20it/s]"
          ]
        },
        {
          "output_type": "stream",
          "name": "stdout",
          "text": [
            "\n",
            "Train set: Average loss: 0.1619, Accuracy: 95%\n"
          ]
        },
        {
          "output_type": "stream",
          "name": "stderr",
          "text": [
            "\n"
          ]
        },
        {
          "output_type": "stream",
          "name": "stdout",
          "text": [
            "Test set: Average loss: 0.2336, Accuracy: 90%\n",
            "\n",
            "Epoch: 12\n"
          ]
        },
        {
          "output_type": "stream",
          "name": "stderr",
          "text": [
            "100%|██████████| 938/938 [00:15<00:00, 61.12it/s]"
          ]
        },
        {
          "output_type": "stream",
          "name": "stdout",
          "text": [
            "\n",
            "Train set: Average loss: 0.0092, Accuracy: 96%\n"
          ]
        },
        {
          "output_type": "stream",
          "name": "stderr",
          "text": [
            "\n"
          ]
        },
        {
          "output_type": "stream",
          "name": "stdout",
          "text": [
            "Test set: Average loss: 0.2725, Accuracy: 90%\n",
            "Training is end!\n"
          ]
        }
      ]
    },
    {
      "cell_type": "markdown",
      "source": [
        "Мы видим, что после 7 эпохи сеть начала переобучаться. Нам удалось получить 91% точности на тесте, что я считаю успехом"
      ],
      "metadata": {
        "id": "gWA7fGoAjWVb"
      }
    },
    {
      "cell_type": "code",
      "source": [],
      "metadata": {
        "id": "PTP8hQhOjm8o"
      },
      "execution_count": null,
      "outputs": []
    }
  ]
}